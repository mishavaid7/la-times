{
 "cells": [
  {
   "cell_type": "markdown",
   "metadata": {},
   "source": [
    "# Finding downgraded crimes using machine learning\n",
    "\n",
    "Using a machine learning algorithm, The Los Angeles Times found the LAPD was downgrading serious assaults to the less serious \"simple assault\" category for years. We're going to reproduce this by manually downgrading 15% of the serious assaults in a database, then trying to see if we can detect which ones we edited.\n",
    "\n",
    "We'll be using actual assault reports from the LAPD, reported between the years of 2008-2012. "
   ]
  },
  {
   "cell_type": "markdown",
   "metadata": {},
   "source": [
    "<p class=\"reading-options\">\n",
    "  <a class=\"btn\" href=\"/latimes-crime-classification/using-a-classifier-to-find-misclassified-crimes\">\n",
    "    <i class=\"fa fa-sm fa-book\"></i>\n",
    "    Read online\n",
    "  </a>\n",
    "  <a class=\"btn\" href=\"/latimes-crime-classification/notebooks/Using a classifier to find misclassified crimes.ipynb\">\n",
    "    <i class=\"fa fa-sm fa-download\"></i>\n",
    "    Download notebook\n",
    "  </a>\n",
    "  <a class=\"btn\" href=\"https://colab.research.google.com/github/littlecolumns/ds4j-notebooks/blob/master/latimes-crime-classification/notebooks/Using a classifier to find misclassified crimes.ipynb\" target=\"_new\">\n",
    "    <i class=\"fa fa-sm fa-laptop\"></i>\n",
    "    Interactive version\n",
    "  </a>\n",
    "</p>"
   ]
  },
  {
   "cell_type": "markdown",
   "metadata": {},
   "source": [
    "### Prep work: Downloading necessary files\n",
    "Before we get started, we need to download all of the data we'll be using.\n",
    "* **2008-2012.csv:** cleaned crime reports - a selection of partially scrubbed reports from between 2008-2012\n"
   ]
  },
  {
   "cell_type": "code",
   "execution_count": 1,
   "metadata": {},
   "outputs": [
    {
     "name": "stdout",
     "output_type": "stream",
     "text": [
      "File ‘data/2008-2012.csv.zip’ already there; not retrieving.\n",
      "\n",
      "Archive:  data/2008-2012.csv.zip\n"
     ]
    }
   ],
   "source": [
    "# Make data directory if it doesn't exist\n",
    "!mkdir -p data\n",
    "!wget -nc https://nyc3.digitaloceanspaces.com/ml-files-distro/v1/latimes-crime-classification/data/2008-2012.csv.zip -P data\n",
    "!unzip -n -d data data/2008-2012.csv.zip"
   ]
  },
  {
   "cell_type": "markdown",
   "metadata": {},
   "source": [
    "## Imports and setup\n",
    "\n",
    "First we'll set some options up to make everything display correctly. It's mostly because these assault descriptions can be quite long, and the default is to truncate text after a few words."
   ]
  },
  {
   "cell_type": "code",
   "execution_count": 2,
   "metadata": {},
   "outputs": [],
   "source": [
    "import pandas as pd\n",
    "\n",
    "pd.set_option('display.max_colwidth', 200)\n",
    "pd.set_option('display.max_columns', 100)\n",
    "pd.set_option('display.max_rows', 300)\n",
    "\n",
    "%matplotlib inline"
   ]
  },
  {
   "cell_type": "markdown",
   "metadata": {},
   "source": [
    "## Read in our data\n",
    "\n",
    "Our dataset is going to be a database of crimes committed between 2008 and 2012. The data has been cleaned and filtered a bit, though, so we're only left with two columns:\n",
    "\n",
    "* `CCDESC`, what criminal code was violated\n",
    "* `DO_NARRATIVE`, a short text description of what happened\n",
    "\n",
    "We're going to use this description to see if we can separate serious cases of assault compared to non-serious cases of assault."
   ]
  },
  {
   "cell_type": "code",
   "execution_count": 3,
   "metadata": {},
   "outputs": [
    {
     "data": {
      "text/html": [
       "<div>\n",
       "<style scoped>\n",
       "    .dataframe tbody tr th:only-of-type {\n",
       "        vertical-align: middle;\n",
       "    }\n",
       "\n",
       "    .dataframe tbody tr th {\n",
       "        vertical-align: top;\n",
       "    }\n",
       "\n",
       "    .dataframe thead th {\n",
       "        text-align: right;\n",
       "    }\n",
       "</style>\n",
       "<table border=\"1\" class=\"dataframe\">\n",
       "  <thead>\n",
       "    <tr style=\"text-align: right;\">\n",
       "      <th></th>\n",
       "      <th>CCDESC</th>\n",
       "      <th>DO_NARRATIVE</th>\n",
       "    </tr>\n",
       "  </thead>\n",
       "  <tbody>\n",
       "    <tr>\n",
       "      <th>0</th>\n",
       "      <td>SHOPLIFTING - PETTY THEFT ($950 &amp; UNDER)</td>\n",
       "      <td>DO-SUSP WAS SEEN THROUGH SURVAILANCE CONCEALING SEVERAL ITEMS INTO HER    SHOPPING AND PERSONAL BAG LEAVING WITHOUT PAYING DEPT STORE</td>\n",
       "    </tr>\n",
       "    <tr>\n",
       "      <th>1</th>\n",
       "      <td>VIOLATION OF COURT ORDER</td>\n",
       "      <td>DO-SUSP ARRIVED AT VICTS RESID AND ENTERED VICTS RESID IN VIOLATION OF    RESTRAINING ORDER</td>\n",
       "    </tr>\n",
       "    <tr>\n",
       "      <th>2</th>\n",
       "      <td>ASSAULT WITH DEADLY WEAPON, AGGRAVATED ASSAULT</td>\n",
       "      <td>DO-S APPRCHED V AND STATED ARE YOU GOING TO FCK ME V REPLIED NO SUSP PULL ED OUT A KNIFE AND STATED IM HERE TO HURT YOU BTCH S USED PROFANITIES</td>\n",
       "    </tr>\n",
       "    <tr>\n",
       "      <th>3</th>\n",
       "      <td>THEFT PLAIN - PETTY ($950 &amp; UNDER)</td>\n",
       "      <td>DO-UNK SUSP TOOK VICT PREPAID GIFT CARD SUSP PURCHASED PRODUCTS WITH ITEM</td>\n",
       "    </tr>\n",
       "    <tr>\n",
       "      <th>4</th>\n",
       "      <td>BATTERY - SIMPLE ASSAULT</td>\n",
       "      <td>DO-SUSP USED RIGHT FIST TO PUNCH VICT IN THE HEAD ONCE N PULL VICT HAIR   FOR APPRX 15 SECONDS</td>\n",
       "    </tr>\n",
       "    <tr>\n",
       "      <th>5</th>\n",
       "      <td>THEFT OF IDENTITY</td>\n",
       "      <td>DO-UNK SUSP USED VICTS PERSONAL INFO FOR GAIN WITHOUT THE VICTS CONSENT ORKNOWLEDGE</td>\n",
       "    </tr>\n",
       "    <tr>\n",
       "      <th>6</th>\n",
       "      <td>SHOPLIFTING - PETTY THEFT ($950 &amp; UNDER)</td>\n",
       "      <td>DO-SUSP ENTERED MKT AND SEL ITEMS SUSP CONCEALED ITEMS AND EXITED STORE WOPAYING</td>\n",
       "    </tr>\n",
       "    <tr>\n",
       "      <th>7</th>\n",
       "      <td>BURGLARY</td>\n",
       "      <td>DO-UNK SUSP ENTERED VICTS RESIDENCE BY UNLOCKED FRONT DOOR SUSP REMOVED VCTICTS PROPERTY SUSP FLED LOC</td>\n",
       "    </tr>\n",
       "    <tr>\n",
       "      <th>8</th>\n",
       "      <td>OTHER MISCELLANEOUS CRIME</td>\n",
       "      <td>DO-SUSP ADMITTED TO PLACING 2010 REG TAG HE ILLEGALLY OBTAINED ON HIS LIC PLATE HIS VEH REG WAS STILL EXP</td>\n",
       "    </tr>\n",
       "    <tr>\n",
       "      <th>9</th>\n",
       "      <td>BATTERY - SIMPLE ASSAULT</td>\n",
       "      <td>DO-S APPROACHED V IN VEH S SLAPPED AND LUNGGED AT V</td>\n",
       "    </tr>\n",
       "  </tbody>\n",
       "</table>\n",
       "</div>"
      ],
      "text/plain": [
       "                                           CCDESC  \\\n",
       "0        SHOPLIFTING - PETTY THEFT ($950 & UNDER)   \n",
       "1                        VIOLATION OF COURT ORDER   \n",
       "2  ASSAULT WITH DEADLY WEAPON, AGGRAVATED ASSAULT   \n",
       "3              THEFT PLAIN - PETTY ($950 & UNDER)   \n",
       "4                        BATTERY - SIMPLE ASSAULT   \n",
       "5                               THEFT OF IDENTITY   \n",
       "6        SHOPLIFTING - PETTY THEFT ($950 & UNDER)   \n",
       "7                                        BURGLARY   \n",
       "8                       OTHER MISCELLANEOUS CRIME   \n",
       "9                        BATTERY - SIMPLE ASSAULT   \n",
       "\n",
       "                                                                                                                                      DO_NARRATIVE  \n",
       "0            DO-SUSP WAS SEEN THROUGH SURVAILANCE CONCEALING SEVERAL ITEMS INTO HER    SHOPPING AND PERSONAL BAG LEAVING WITHOUT PAYING DEPT STORE  \n",
       "1                                                      DO-SUSP ARRIVED AT VICTS RESID AND ENTERED VICTS RESID IN VIOLATION OF    RESTRAINING ORDER  \n",
       "2  DO-S APPRCHED V AND STATED ARE YOU GOING TO FCK ME V REPLIED NO SUSP PULL ED OUT A KNIFE AND STATED IM HERE TO HURT YOU BTCH S USED PROFANITIES  \n",
       "3                                                                        DO-UNK SUSP TOOK VICT PREPAID GIFT CARD SUSP PURCHASED PRODUCTS WITH ITEM  \n",
       "4                                                   DO-SUSP USED RIGHT FIST TO PUNCH VICT IN THE HEAD ONCE N PULL VICT HAIR   FOR APPRX 15 SECONDS  \n",
       "5                                                              DO-UNK SUSP USED VICTS PERSONAL INFO FOR GAIN WITHOUT THE VICTS CONSENT ORKNOWLEDGE  \n",
       "6                                                                 DO-SUSP ENTERED MKT AND SEL ITEMS SUSP CONCEALED ITEMS AND EXITED STORE WOPAYING  \n",
       "7                                           DO-UNK SUSP ENTERED VICTS RESIDENCE BY UNLOCKED FRONT DOOR SUSP REMOVED VCTICTS PROPERTY SUSP FLED LOC  \n",
       "8                                        DO-SUSP ADMITTED TO PLACING 2010 REG TAG HE ILLEGALLY OBTAINED ON HIS LIC PLATE HIS VEH REG WAS STILL EXP  \n",
       "9                                                                                              DO-S APPROACHED V IN VEH S SLAPPED AND LUNGGED AT V  "
      ]
     },
     "execution_count": 3,
     "metadata": {},
     "output_type": "execute_result"
    }
   ],
   "source": [
    "df = pd.read_csv(\"data/2008-2012.csv\")\n",
    "df.head(10)"
   ]
  },
  {
   "cell_type": "markdown",
   "metadata": {},
   "source": [
    "How much data do we have?"
   ]
  },
  {
   "cell_type": "code",
   "execution_count": 4,
   "metadata": {},
   "outputs": [
    {
     "data": {
      "text/plain": [
       "(830218, 2)"
      ]
     },
     "execution_count": 4,
     "metadata": {},
     "output_type": "execute_result"
    }
   ],
   "source": [
    "df.shape"
   ]
  },
  {
   "cell_type": "markdown",
   "metadata": {},
   "source": [
    "# Clean the data\n",
    "\n",
    "We don't get to use all 800,000 rows, though! We're just going to stick to assaults. First we'll filter our dataset to only include crimes with a description that includes the word `ASSAULT`."
   ]
  },
  {
   "cell_type": "code",
   "execution_count": 5,
   "metadata": {},
   "outputs": [
    {
     "data": {
      "text/plain": [
       "(165965, 2)"
      ]
     },
     "execution_count": 5,
     "metadata": {},
     "output_type": "execute_result"
    }
   ],
   "source": [
    "df = df[df.CCDESC.str.contains(\"ASSAULT\")].copy()\n",
    "df.shape"
   ]
  },
  {
   "cell_type": "markdown",
   "metadata": {},
   "source": [
    "Assaults come in two forms:\n",
    "\n",
    "* Serious or Part I assaults, which are Aggravated and Serious assaults\n",
    "* Non-Serious or Part II assaults, which are Simple assaults\n",
    "\n",
    "Let's make a new column called `serious` where we save whether the assault is serious/Part I or not."
   ]
  },
  {
   "cell_type": "code",
   "execution_count": 6,
   "metadata": {},
   "outputs": [
    {
     "data": {
      "text/plain": [
       "serious  CCDESC                                        \n",
       "0        BATTERY - SIMPLE ASSAULT                          71951\n",
       "         INTIMATE PARTNER - SIMPLE ASSAULT                 42102\n",
       "         CHILD ABUSE (PHYSICAL) - SIMPLE ASSAULT            4297\n",
       "         OTHER ASSAULT                                       394\n",
       "1        ASSAULT WITH DEADLY WEAPON, AGGRAVATED ASSAULT    43385\n",
       "         INTIMATE PARTNER - AGGRAVATED ASSAULT              1606\n",
       "         CHILD ABUSE (PHYSICAL) - AGGRAVATED ASSAULT        1481\n",
       "         ASSAULT WITH DEADLY WEAPON ON POLICE OFFICER        749\n",
       "Name: CCDESC, dtype: int64"
      ]
     },
     "execution_count": 6,
     "metadata": {},
     "output_type": "execute_result"
    }
   ],
   "source": [
    "df['serious'] = df.CCDESC.str.contains(\"AGGRAVATED\") | df.CCDESC.str.contains(\"DEADLY\")\n",
    "df['serious'] = df['serious'].astype(int)\n",
    "df.groupby('serious').CCDESC.value_counts()"
   ]
  },
  {
   "cell_type": "markdown",
   "metadata": {},
   "source": [
    "How many are serious vs simple assaults?"
   ]
  },
  {
   "cell_type": "code",
   "execution_count": 7,
   "metadata": {},
   "outputs": [
    {
     "data": {
      "text/plain": [
       "0    118744\n",
       "1     47221\n",
       "Name: serious, dtype: int64"
      ]
     },
     "execution_count": 7,
     "metadata": {},
     "output_type": "execute_result"
    }
   ],
   "source": [
    "df.serious.value_counts()"
   ]
  },
  {
   "cell_type": "markdown",
   "metadata": {},
   "source": [
    "We have about 2.5x as many serious assaults as we do simple assaults. Typically you want to have equal numbers of both, but we'll see how it goes for now."
   ]
  },
  {
   "cell_type": "markdown",
   "metadata": {},
   "source": [
    "## Downgrading some serious assaults\n",
    "\n",
    "The Los Angeles Times looked for (and found) Part I crimes that the LAPD had downgraded to Part II. We don't have access to these original attributions, though, so we'll need to randomly select serious crimes to downgrade.\n",
    "\n",
    "Let's take 15% of the serious crimes and downgrade them to Part II. I'd rather not save this in another file because I don't want to imply it's real - **it's just us faking the downgrade for the purposes of the exercise.**"
   ]
  },
  {
   "cell_type": "code",
   "execution_count": 8,
   "metadata": {},
   "outputs": [],
   "source": [
    "# Select a random sample of 15% of the part I crimes\n",
    "serious_subset = df[df.serious == 1].sample(frac=0.15)\n",
    "\n",
    "# So we can flag the ones we're downgrading\n",
    "df['downgraded'] = 0\n",
    "\n",
    "# Update the original dataframe to downgrade them to part_ii\n",
    "df.loc[serious_subset.index, 'downgraded'] = 1\n",
    "df.loc[serious_subset.index, 'serious'] = 0"
   ]
  },
  {
   "cell_type": "markdown",
   "metadata": {},
   "source": [
    "How many did we downgrade?"
   ]
  },
  {
   "cell_type": "code",
   "execution_count": 9,
   "metadata": {},
   "outputs": [
    {
     "data": {
      "text/plain": [
       "7083"
      ]
     },
     "execution_count": 9,
     "metadata": {},
     "output_type": "execute_result"
    }
   ],
   "source": [
    "df.downgraded.sum()"
   ]
  },
  {
   "cell_type": "markdown",
   "metadata": {},
   "source": [
    "Before we had 118,744 simple assaults and 47,221 serious assaults. What's that number look like now?"
   ]
  },
  {
   "cell_type": "code",
   "execution_count": 10,
   "metadata": {},
   "outputs": [
    {
     "data": {
      "text/plain": [
       "0    125827\n",
       "1     40138\n",
       "Name: serious, dtype: int64"
      ]
     },
     "execution_count": 10,
     "metadata": {},
     "output_type": "execute_result"
    }
   ],
   "source": [
    "df.serious.value_counts()"
   ]
  },
  {
   "cell_type": "markdown",
   "metadata": {},
   "source": [
    "And now we'll take a look at some of the downgraded assaults. Bear in mind that **we selected the assaults to downgrade randomly.**"
   ]
  },
  {
   "cell_type": "code",
   "execution_count": 11,
   "metadata": {},
   "outputs": [
    {
     "data": {
      "text/html": [
       "<div>\n",
       "<style scoped>\n",
       "    .dataframe tbody tr th:only-of-type {\n",
       "        vertical-align: middle;\n",
       "    }\n",
       "\n",
       "    .dataframe tbody tr th {\n",
       "        vertical-align: top;\n",
       "    }\n",
       "\n",
       "    .dataframe thead th {\n",
       "        text-align: right;\n",
       "    }\n",
       "</style>\n",
       "<table border=\"1\" class=\"dataframe\">\n",
       "  <thead>\n",
       "    <tr style=\"text-align: right;\">\n",
       "      <th></th>\n",
       "      <th>CCDESC</th>\n",
       "      <th>DO_NARRATIVE</th>\n",
       "      <th>serious</th>\n",
       "      <th>downgraded</th>\n",
       "    </tr>\n",
       "  </thead>\n",
       "  <tbody>\n",
       "    <tr>\n",
       "      <th>2</th>\n",
       "      <td>ASSAULT WITH DEADLY WEAPON, AGGRAVATED ASSAULT</td>\n",
       "      <td>DO-S APPRCHED V AND STATED ARE YOU GOING TO FCK ME V REPLIED NO SUSP PULL ED OUT A KNIFE AND STATED IM HERE TO HURT YOU BTCH S USED PROFANITIES</td>\n",
       "      <td>0</td>\n",
       "      <td>1</td>\n",
       "    </tr>\n",
       "    <tr>\n",
       "      <th>243</th>\n",
       "      <td>ASSAULT WITH DEADLY WEAPON, AGGRAVATED ASSAULT</td>\n",
       "      <td>DO-SUSP DROVE UP ALONG SIDE VICTS DRIVER SIDE WINDOW AND STATED BITCH YOU TRIED TO HIT MY SON SUSP REMOVED BOTTLE WITH RIGHT HAND AND THREW IT AT VICT</td>\n",
       "      <td>0</td>\n",
       "      <td>1</td>\n",
       "    </tr>\n",
       "    <tr>\n",
       "      <th>349</th>\n",
       "      <td>ASSAULT WITH DEADLY WEAPON, AGGRAVATED ASSAULT</td>\n",
       "      <td>DO-S PUNCHED V IN FACE AND STATED  I DONT WANT YOU HERE  V FELL TO GROUND S STRUCK V WITH TWO BY FOUR WOOD FOUR TO FIVE TIMES IN FACE AND BODY</td>\n",
       "      <td>0</td>\n",
       "      <td>1</td>\n",
       "    </tr>\n",
       "    <tr>\n",
       "      <th>368</th>\n",
       "      <td>ASSAULT WITH DEADLY WEAPON, AGGRAVATED ASSAULT</td>\n",
       "      <td>DO-SUSP AND VICT BECAME INVOLVED IN ARGUMENT SUSP PICKED UP METAL STAND AND STRUCK VICT CAUSING VISIBLE INJURIES</td>\n",
       "      <td>0</td>\n",
       "      <td>1</td>\n",
       "    </tr>\n",
       "    <tr>\n",
       "      <th>450</th>\n",
       "      <td>ASSAULT WITH DEADLY WEAPON, AGGRAVATED ASSAULT</td>\n",
       "      <td>DO-ARMED WITH A KNIFE  SUSP LUNGED AT V2 AND MISSED  SUSP THEN STABBED    V1 ON THE RIGHT UPPER ARM</td>\n",
       "      <td>0</td>\n",
       "      <td>1</td>\n",
       "    </tr>\n",
       "    <tr>\n",
       "      <th>597</th>\n",
       "      <td>ASSAULT WITH DEADLY WEAPON, AGGRAVATED ASSAULT</td>\n",
       "      <td>DO-S1 S2 CONFRONTED V ON THE STREETS S1 PUNCHED V IN THE BACK OF THE HEAD WITH UNK METAL OBJ S2 THEN KICKED V TWICE IN THE FACE AND BOTHE SUSPS FLED IN V</td>\n",
       "      <td>0</td>\n",
       "      <td>1</td>\n",
       "    </tr>\n",
       "    <tr>\n",
       "      <th>893</th>\n",
       "      <td>ASSAULT WITH DEADLY WEAPON, AGGRAVATED ASSAULT</td>\n",
       "      <td>DO-S AND V WERE DRIVING IN VEH   S GOT ANGRY AND STRUCK V   THEN S GRABS  SCISSORS AND ATT TO STAB V   V EXITS VEH AND TAKES KEYS   S FLEES TO UNK LOC</td>\n",
       "      <td>0</td>\n",
       "      <td>1</td>\n",
       "    </tr>\n",
       "    <tr>\n",
       "      <th>1069</th>\n",
       "      <td>ASSAULT WITH DEADLY WEAPON, AGGRAVATED ASSAULT</td>\n",
       "      <td>DO-S1 FIRED AT UNK MOTORIST AND STRUCK VICT VEH S2 STOOD BY AS A LOOKOUT</td>\n",
       "      <td>0</td>\n",
       "      <td>1</td>\n",
       "    </tr>\n",
       "    <tr>\n",
       "      <th>1406</th>\n",
       "      <td>ASSAULT WITH DEADLY WEAPON, AGGRAVATED ASSAULT</td>\n",
       "      <td>DO-SUSP APPROACHED VICT IN VAN SUSP GOT OUT OF VAN PULLED GUN FROM WAISTBAND AND POINTED IT AT VICT SUSP CHASED AFTER VICT WGUN SUSP FLED UNK DIR</td>\n",
       "      <td>0</td>\n",
       "      <td>1</td>\n",
       "    </tr>\n",
       "    <tr>\n",
       "      <th>1438</th>\n",
       "      <td>ASSAULT WITH DEADLY WEAPON, AGGRAVATED ASSAULT</td>\n",
       "      <td>DO-SUPS APPRCHD VICT FROM IN A VEH SUSP EXITED VEH AND HIT VICT 4 TO 5S WITH A BASEBALL BAT SUSP FLED EB WESTERN AV</td>\n",
       "      <td>0</td>\n",
       "      <td>1</td>\n",
       "    </tr>\n",
       "  </tbody>\n",
       "</table>\n",
       "</div>"
      ],
      "text/plain": [
       "                                              CCDESC  \\\n",
       "2     ASSAULT WITH DEADLY WEAPON, AGGRAVATED ASSAULT   \n",
       "243   ASSAULT WITH DEADLY WEAPON, AGGRAVATED ASSAULT   \n",
       "349   ASSAULT WITH DEADLY WEAPON, AGGRAVATED ASSAULT   \n",
       "368   ASSAULT WITH DEADLY WEAPON, AGGRAVATED ASSAULT   \n",
       "450   ASSAULT WITH DEADLY WEAPON, AGGRAVATED ASSAULT   \n",
       "597   ASSAULT WITH DEADLY WEAPON, AGGRAVATED ASSAULT   \n",
       "893   ASSAULT WITH DEADLY WEAPON, AGGRAVATED ASSAULT   \n",
       "1069  ASSAULT WITH DEADLY WEAPON, AGGRAVATED ASSAULT   \n",
       "1406  ASSAULT WITH DEADLY WEAPON, AGGRAVATED ASSAULT   \n",
       "1438  ASSAULT WITH DEADLY WEAPON, AGGRAVATED ASSAULT   \n",
       "\n",
       "                                                                                                                                                   DO_NARRATIVE  \\\n",
       "2               DO-S APPRCHED V AND STATED ARE YOU GOING TO FCK ME V REPLIED NO SUSP PULL ED OUT A KNIFE AND STATED IM HERE TO HURT YOU BTCH S USED PROFANITIES   \n",
       "243      DO-SUSP DROVE UP ALONG SIDE VICTS DRIVER SIDE WINDOW AND STATED BITCH YOU TRIED TO HIT MY SON SUSP REMOVED BOTTLE WITH RIGHT HAND AND THREW IT AT VICT   \n",
       "349              DO-S PUNCHED V IN FACE AND STATED  I DONT WANT YOU HERE  V FELL TO GROUND S STRUCK V WITH TWO BY FOUR WOOD FOUR TO FIVE TIMES IN FACE AND BODY   \n",
       "368                                            DO-SUSP AND VICT BECAME INVOLVED IN ARGUMENT SUSP PICKED UP METAL STAND AND STRUCK VICT CAUSING VISIBLE INJURIES   \n",
       "450                                                         DO-ARMED WITH A KNIFE  SUSP LUNGED AT V2 AND MISSED  SUSP THEN STABBED    V1 ON THE RIGHT UPPER ARM   \n",
       "597   DO-S1 S2 CONFRONTED V ON THE STREETS S1 PUNCHED V IN THE BACK OF THE HEAD WITH UNK METAL OBJ S2 THEN KICKED V TWICE IN THE FACE AND BOTHE SUSPS FLED IN V   \n",
       "893      DO-S AND V WERE DRIVING IN VEH   S GOT ANGRY AND STRUCK V   THEN S GRABS  SCISSORS AND ATT TO STAB V   V EXITS VEH AND TAKES KEYS   S FLEES TO UNK LOC   \n",
       "1069                                                                                   DO-S1 FIRED AT UNK MOTORIST AND STRUCK VICT VEH S2 STOOD BY AS A LOOKOUT   \n",
       "1406          DO-SUSP APPROACHED VICT IN VAN SUSP GOT OUT OF VAN PULLED GUN FROM WAISTBAND AND POINTED IT AT VICT SUSP CHASED AFTER VICT WGUN SUSP FLED UNK DIR   \n",
       "1438                                        DO-SUPS APPRCHD VICT FROM IN A VEH SUSP EXITED VEH AND HIT VICT 4 TO 5S WITH A BASEBALL BAT SUSP FLED EB WESTERN AV   \n",
       "\n",
       "      serious  downgraded  \n",
       "2           0           1  \n",
       "243         0           1  \n",
       "349         0           1  \n",
       "368         0           1  \n",
       "450         0           1  \n",
       "597         0           1  \n",
       "893         0           1  \n",
       "1069        0           1  \n",
       "1406        0           1  \n",
       "1438        0           1  "
      ]
     },
     "execution_count": 11,
     "metadata": {},
     "output_type": "execute_result"
    }
   ],
   "source": [
    "df[df.downgraded == 1].head(10)"
   ]
  },
  {
   "cell_type": "code",
   "execution_count": 12,
   "metadata": {},
   "outputs": [],
   "source": [
    "df.to_csv('assault.csv')"
   ]
  },
  {
   "cell_type": "markdown",
   "metadata": {},
   "source": [
    "# Split out a training and testing set"
   ]
  },
  {
   "cell_type": "code",
   "execution_count": 13,
   "metadata": {},
   "outputs": [
    {
     "data": {
      "text/html": [
       "<div>\n",
       "<style scoped>\n",
       "    .dataframe tbody tr th:only-of-type {\n",
       "        vertical-align: middle;\n",
       "    }\n",
       "\n",
       "    .dataframe tbody tr th {\n",
       "        vertical-align: top;\n",
       "    }\n",
       "\n",
       "    .dataframe thead th {\n",
       "        text-align: right;\n",
       "    }\n",
       "</style>\n",
       "<table border=\"1\" class=\"dataframe\">\n",
       "  <thead>\n",
       "    <tr style=\"text-align: right;\">\n",
       "      <th></th>\n",
       "      <th>CCDESC</th>\n",
       "      <th>DO_NARRATIVE</th>\n",
       "      <th>serious</th>\n",
       "      <th>downgraded</th>\n",
       "    </tr>\n",
       "  </thead>\n",
       "  <tbody>\n",
       "    <tr>\n",
       "      <th>285803</th>\n",
       "      <td>BATTERY - SIMPLE ASSAULT</td>\n",
       "      <td>DO-SUSP SECURITY GUARD AT HOTEL GOT INTO VIS BED W VIC WHILE V ASLEEP WO  VIC PERMISSION S THEN SPOONED VIC VIC WAS GUEST AT HOTEL AT TIME OF INCIDENT</td>\n",
       "      <td>0</td>\n",
       "      <td>0</td>\n",
       "    </tr>\n",
       "    <tr>\n",
       "      <th>420596</th>\n",
       "      <td>BATTERY - SIMPLE ASSAULT</td>\n",
       "      <td>DO-SUSP AND VICT BECAME INVOLVED IN ARGUMENT SUSP HELD A PLASTIC CHAIR IN FRONT OF HIM AND PUSHED VICT WITH CHAIR AS VICT APPROACHED SUSP TO CONFRONT HIM</td>\n",
       "      <td>0</td>\n",
       "      <td>0</td>\n",
       "    </tr>\n",
       "    <tr>\n",
       "      <th>115161</th>\n",
       "      <td>BATTERY - SIMPLE ASSAULT</td>\n",
       "      <td>DO-VICT IS PARENT OF SUSPECT STRUGGLED ENSUED FROM AN ARGUMENT AND SUSPECTELBOWED VICT IN THE CHEST SUSP THEN FLED LOCATION</td>\n",
       "      <td>0</td>\n",
       "      <td>0</td>\n",
       "    </tr>\n",
       "  </tbody>\n",
       "</table>\n",
       "</div>"
      ],
      "text/plain": [
       "                          CCDESC  \\\n",
       "285803  BATTERY - SIMPLE ASSAULT   \n",
       "420596  BATTERY - SIMPLE ASSAULT   \n",
       "115161  BATTERY - SIMPLE ASSAULT   \n",
       "\n",
       "                                                                                                                                                     DO_NARRATIVE  \\\n",
       "285803     DO-SUSP SECURITY GUARD AT HOTEL GOT INTO VIS BED W VIC WHILE V ASLEEP WO  VIC PERMISSION S THEN SPOONED VIC VIC WAS GUEST AT HOTEL AT TIME OF INCIDENT   \n",
       "420596  DO-SUSP AND VICT BECAME INVOLVED IN ARGUMENT SUSP HELD A PLASTIC CHAIR IN FRONT OF HIM AND PUSHED VICT WITH CHAIR AS VICT APPROACHED SUSP TO CONFRONT HIM   \n",
       "115161                                DO-VICT IS PARENT OF SUSPECT STRUGGLED ENSUED FROM AN ARGUMENT AND SUSPECTELBOWED VICT IN THE CHEST SUSP THEN FLED LOCATION   \n",
       "\n",
       "        serious  downgraded  \n",
       "285803        0           0  \n",
       "420596        0           0  \n",
       "115161        0           0  "
      ]
     },
     "execution_count": 13,
     "metadata": {},
     "output_type": "execute_result"
    }
   ],
   "source": [
    "from sklearn.utils import shuffle\n",
    "\n",
    "# shuffle the data into a random order\n",
    "# only run this cell once, otherwise it will re-shuffle 😮\n",
    "df = shuffle(df, random_state=42)\n",
    "df.head(3)"
   ]
  },
  {
   "cell_type": "code",
   "execution_count": 14,
   "metadata": {},
   "outputs": [
    {
     "name": "stdout",
     "output_type": "stream",
     "text": [
      "(165865, 4)\n",
      "(100, 4)\n"
     ]
    }
   ],
   "source": [
    "from sklearn.model_selection import train_test_split\n",
    "\n",
    "X_train, X_test = train_test_split(df, test_size=100, random_state=42)\n",
    "\n",
    "print(X_train.shape)\n",
    "print(X_test.shape)"
   ]
  },
  {
   "cell_type": "code",
   "execution_count": 15,
   "metadata": {},
   "outputs": [
    {
     "name": "stdout",
     "output_type": "stream",
     "text": [
      "(165865, 4)\n"
     ]
    },
    {
     "data": {
      "text/html": [
       "<div>\n",
       "<style scoped>\n",
       "    .dataframe tbody tr th:only-of-type {\n",
       "        vertical-align: middle;\n",
       "    }\n",
       "\n",
       "    .dataframe tbody tr th {\n",
       "        vertical-align: top;\n",
       "    }\n",
       "\n",
       "    .dataframe thead th {\n",
       "        text-align: right;\n",
       "    }\n",
       "</style>\n",
       "<table border=\"1\" class=\"dataframe\">\n",
       "  <thead>\n",
       "    <tr style=\"text-align: right;\">\n",
       "      <th></th>\n",
       "      <th>CCDESC</th>\n",
       "      <th>DO_NARRATIVE</th>\n",
       "      <th>serious</th>\n",
       "      <th>downgraded</th>\n",
       "    </tr>\n",
       "  </thead>\n",
       "  <tbody>\n",
       "    <tr>\n",
       "      <th>823014</th>\n",
       "      <td>BATTERY - SIMPLE ASSAULT</td>\n",
       "      <td>DO-SUSP AND VICT INVOLVED IN ARGUMENT SUSP GRABBED VICT BY NECK PUSHED HERAGAINST WALL AND CHOKED HER</td>\n",
       "      <td>0</td>\n",
       "      <td>0</td>\n",
       "    </tr>\n",
       "    <tr>\n",
       "      <th>660053</th>\n",
       "      <td>CHILD ABUSE (PHYSICAL) - SIMPLE ASSAULT</td>\n",
       "      <td>DO-V1 AND V2 WERE DISCIPLINED BY STEPFATHER FRIDAY AFTER SCHOOL WITH A    BELT V1 HAD SOME MINOR BRUSING ON BODY V2 HAD BRUISING ON HIS BODY</td>\n",
       "      <td>0</td>\n",
       "      <td>0</td>\n",
       "    </tr>\n",
       "    <tr>\n",
       "      <th>736013</th>\n",
       "      <td>ASSAULT WITH DEADLY WEAPON, AGGRAVATED ASSAULT</td>\n",
       "      <td>DO-UNK SUSPS DROVE UP ALONSIDE VICTS S YELLED FUCK 38 S1 THEN SHOT APPROX 4-5 RONDS FROM BLUE STEEL REVOLVER STRIKING V1 V2</td>\n",
       "      <td>1</td>\n",
       "      <td>0</td>\n",
       "    </tr>\n",
       "  </tbody>\n",
       "</table>\n",
       "</div>"
      ],
      "text/plain": [
       "                                                CCDESC  \\\n",
       "823014                        BATTERY - SIMPLE ASSAULT   \n",
       "660053         CHILD ABUSE (PHYSICAL) - SIMPLE ASSAULT   \n",
       "736013  ASSAULT WITH DEADLY WEAPON, AGGRAVATED ASSAULT   \n",
       "\n",
       "                                                                                                                                        DO_NARRATIVE  \\\n",
       "823014                                         DO-SUSP AND VICT INVOLVED IN ARGUMENT SUSP GRABBED VICT BY NECK PUSHED HERAGAINST WALL AND CHOKED HER   \n",
       "660053  DO-V1 AND V2 WERE DISCIPLINED BY STEPFATHER FRIDAY AFTER SCHOOL WITH A    BELT V1 HAD SOME MINOR BRUSING ON BODY V2 HAD BRUISING ON HIS BODY   \n",
       "736013                   DO-UNK SUSPS DROVE UP ALONSIDE VICTS S YELLED FUCK 38 S1 THEN SHOT APPROX 4-5 RONDS FROM BLUE STEEL REVOLVER STRIKING V1 V2   \n",
       "\n",
       "        serious  downgraded  \n",
       "823014        0           0  \n",
       "660053        0           0  \n",
       "736013        1           0  "
      ]
     },
     "execution_count": 15,
     "metadata": {},
     "output_type": "execute_result"
    }
   ],
   "source": [
    "X_train.to_csv('assaults_downgraded_train.csv')\n",
    "print(X_train.shape)\n",
    "X_train.head(3)"
   ]
  },
  {
   "cell_type": "code",
   "execution_count": 16,
   "metadata": {},
   "outputs": [
    {
     "name": "stdout",
     "output_type": "stream",
     "text": [
      "(100, 4)\n"
     ]
    },
    {
     "data": {
      "text/html": [
       "<div>\n",
       "<style scoped>\n",
       "    .dataframe tbody tr th:only-of-type {\n",
       "        vertical-align: middle;\n",
       "    }\n",
       "\n",
       "    .dataframe tbody tr th {\n",
       "        vertical-align: top;\n",
       "    }\n",
       "\n",
       "    .dataframe thead th {\n",
       "        text-align: right;\n",
       "    }\n",
       "</style>\n",
       "<table border=\"1\" class=\"dataframe\">\n",
       "  <thead>\n",
       "    <tr style=\"text-align: right;\">\n",
       "      <th></th>\n",
       "      <th>CCDESC</th>\n",
       "      <th>DO_NARRATIVE</th>\n",
       "      <th>serious</th>\n",
       "      <th>downgraded</th>\n",
       "    </tr>\n",
       "  </thead>\n",
       "  <tbody>\n",
       "    <tr>\n",
       "      <th>483580</th>\n",
       "      <td>INTIMATE PARTNER - SIMPLE ASSAULT</td>\n",
       "      <td>DO- S AND V BECAME INVOLV IN AN ARGUMENT S BECAME UPSET AND STRUCK V IN   THE FACE WITH A CLOSED FIST FIVE TIMES</td>\n",
       "      <td>0</td>\n",
       "      <td>0</td>\n",
       "    </tr>\n",
       "    <tr>\n",
       "      <th>745059</th>\n",
       "      <td>BATTERY - SIMPLE ASSAULT</td>\n",
       "      <td>DO-VICT AND SUSP INVOLVED IN A VERBAL ARGUMENT  SUSP SPIT ONCE IN THE VICTS FACE  SUSP FLED ON BICYCLE</td>\n",
       "      <td>0</td>\n",
       "      <td>0</td>\n",
       "    </tr>\n",
       "    <tr>\n",
       "      <th>644873</th>\n",
       "      <td>ASSAULT WITH DEADLY WEAPON, AGGRAVATED ASSAULT</td>\n",
       "      <td>DO-SUSP AND VIC WERE INVLD IN A VERBAL ARGUMENT SUSP STRUCK VIC IN HAND WITH UNK OBJECT CAUSING HALF INCH LACERATION TO HIS LEFT THUMB</td>\n",
       "      <td>1</td>\n",
       "      <td>0</td>\n",
       "    </tr>\n",
       "  </tbody>\n",
       "</table>\n",
       "</div>"
      ],
      "text/plain": [
       "                                                CCDESC  \\\n",
       "483580               INTIMATE PARTNER - SIMPLE ASSAULT   \n",
       "745059                        BATTERY - SIMPLE ASSAULT   \n",
       "644873  ASSAULT WITH DEADLY WEAPON, AGGRAVATED ASSAULT   \n",
       "\n",
       "                                                                                                                                  DO_NARRATIVE  \\\n",
       "483580                        DO- S AND V BECAME INVOLV IN AN ARGUMENT S BECAME UPSET AND STRUCK V IN   THE FACE WITH A CLOSED FIST FIVE TIMES   \n",
       "745059                                  DO-VICT AND SUSP INVOLVED IN A VERBAL ARGUMENT  SUSP SPIT ONCE IN THE VICTS FACE  SUSP FLED ON BICYCLE   \n",
       "644873  DO-SUSP AND VIC WERE INVLD IN A VERBAL ARGUMENT SUSP STRUCK VIC IN HAND WITH UNK OBJECT CAUSING HALF INCH LACERATION TO HIS LEFT THUMB   \n",
       "\n",
       "        serious  downgraded  \n",
       "483580        0           0  \n",
       "745059        0           0  \n",
       "644873        1           0  "
      ]
     },
     "execution_count": 16,
     "metadata": {},
     "output_type": "execute_result"
    }
   ],
   "source": [
    "X_test.to_csv('assaults_downgraded_test_with_answers.csv')\n",
    "print(X_test.shape)\n",
    "X_test.head(3)"
   ]
  },
  {
   "cell_type": "code",
   "execution_count": 17,
   "metadata": {},
   "outputs": [
    {
     "name": "stdout",
     "output_type": "stream",
     "text": [
      "(100, 4)\n"
     ]
    },
    {
     "data": {
      "text/html": [
       "<div>\n",
       "<style scoped>\n",
       "    .dataframe tbody tr th:only-of-type {\n",
       "        vertical-align: middle;\n",
       "    }\n",
       "\n",
       "    .dataframe tbody tr th {\n",
       "        vertical-align: top;\n",
       "    }\n",
       "\n",
       "    .dataframe thead th {\n",
       "        text-align: right;\n",
       "    }\n",
       "</style>\n",
       "<table border=\"1\" class=\"dataframe\">\n",
       "  <thead>\n",
       "    <tr style=\"text-align: right;\">\n",
       "      <th></th>\n",
       "      <th>CCDESC</th>\n",
       "      <th>DO_NARRATIVE</th>\n",
       "      <th>serious</th>\n",
       "      <th>downgraded</th>\n",
       "    </tr>\n",
       "  </thead>\n",
       "  <tbody>\n",
       "    <tr>\n",
       "      <th>483580</th>\n",
       "      <td></td>\n",
       "      <td>DO- S AND V BECAME INVOLV IN AN ARGUMENT S BECAME UPSET AND STRUCK V IN   THE FACE WITH A CLOSED FIST FIVE TIMES</td>\n",
       "      <td></td>\n",
       "      <td></td>\n",
       "    </tr>\n",
       "    <tr>\n",
       "      <th>745059</th>\n",
       "      <td></td>\n",
       "      <td>DO-VICT AND SUSP INVOLVED IN A VERBAL ARGUMENT  SUSP SPIT ONCE IN THE VICTS FACE  SUSP FLED ON BICYCLE</td>\n",
       "      <td></td>\n",
       "      <td></td>\n",
       "    </tr>\n",
       "    <tr>\n",
       "      <th>644873</th>\n",
       "      <td></td>\n",
       "      <td>DO-SUSP AND VIC WERE INVLD IN A VERBAL ARGUMENT SUSP STRUCK VIC IN HAND WITH UNK OBJECT CAUSING HALF INCH LACERATION TO HIS LEFT THUMB</td>\n",
       "      <td></td>\n",
       "      <td></td>\n",
       "    </tr>\n",
       "  </tbody>\n",
       "</table>\n",
       "</div>"
      ],
      "text/plain": [
       "       CCDESC  \\\n",
       "483580          \n",
       "745059          \n",
       "644873          \n",
       "\n",
       "                                                                                                                                  DO_NARRATIVE  \\\n",
       "483580                        DO- S AND V BECAME INVOLV IN AN ARGUMENT S BECAME UPSET AND STRUCK V IN   THE FACE WITH A CLOSED FIST FIVE TIMES   \n",
       "745059                                  DO-VICT AND SUSP INVOLVED IN A VERBAL ARGUMENT  SUSP SPIT ONCE IN THE VICTS FACE  SUSP FLED ON BICYCLE   \n",
       "644873  DO-SUSP AND VIC WERE INVLD IN A VERBAL ARGUMENT SUSP STRUCK VIC IN HAND WITH UNK OBJECT CAUSING HALF INCH LACERATION TO HIS LEFT THUMB   \n",
       "\n",
       "       serious downgraded  \n",
       "483580                     \n",
       "745059                     \n",
       "644873                     "
      ]
     },
     "execution_count": 17,
     "metadata": {},
     "output_type": "execute_result"
    }
   ],
   "source": [
    "X_test_no_answers = X_test.copy()\n",
    "X_test_no_answers['CCDESC'] = ''\n",
    "X_test_no_answers['serious'] = ''\n",
    "X_test_no_answers['downgraded'] = ''\n",
    "\n",
    "X_test_no_answers.to_csv('assaults_downgraded_test.csv')\n",
    "print(X_test_no_answers.shape)\n",
    "X_test_no_answers.head(3)"
   ]
  },
  {
   "cell_type": "markdown",
   "metadata": {},
   "source": [
    "# You are the classifier 👈\n",
    "\n",
    "Just like a classifier, you must learn the rules from the data.\n",
    "\n",
    "Open up `assaults_downgraded_test.csv` and start classifying each item as 0 or 1. You may refer to `assaults_downgraded_train.csv` in order to learn the patterns of how these assaults are generally classified. Remember, the police may have gotten some wrong. You don't have a \"golden set\". \n",
    "\n",
    "\n",
    "Let's take a look at a few together\n",
    "\n",
    "Training set\n",
    "https://docs.google.com/spreadsheets/d/1OfaxnczYFEXxngQRn86EyDBUB0gMsYLMpqVPXDPyh9A/edit#gid=1666854851\n",
    "\n",
    "Testing set\n",
    "https://docs.google.com/spreadsheets/d/1jNAZ11-rt3ix-Peu86IQ2wvhqfD3OiUJz_Gf4ERiLIM/edit#gid=2046706400\n",
    "\n"
   ]
  }
 ],
 "metadata": {
  "kernelspec": {
   "display_name": "Python 3 (ipykernel)",
   "language": "python",
   "name": "python3"
  },
  "language_info": {
   "codemirror_mode": {
    "name": "ipython",
    "version": 3
   },
   "file_extension": ".py",
   "mimetype": "text/x-python",
   "name": "python",
   "nbconvert_exporter": "python",
   "pygments_lexer": "ipython3",
   "version": "3.10.0"
  },
  "toc": {
   "base_numbering": 1,
   "nav_menu": {},
   "number_sections": true,
   "sideBar": true,
   "skip_h1_title": false,
   "title_cell": "Table of Contents",
   "title_sidebar": "Contents",
   "toc_cell": false,
   "toc_position": {},
   "toc_section_display": true,
   "toc_window_display": false
  }
 },
 "nbformat": 4,
 "nbformat_minor": 2
}
